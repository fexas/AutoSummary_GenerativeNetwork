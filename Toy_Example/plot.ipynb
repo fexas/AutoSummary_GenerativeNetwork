{
 "cells": [
  {
   "cell_type": "markdown",
   "id": "f6d12cff7c5ec2e",
   "metadata": {},
   "source": [
    "# Plot"
   ]
  },
  {
   "cell_type": "code",
   "execution_count": 1,
   "id": "initial_id",
   "metadata": {
    "ExecuteTime": {
     "end_time": "2025-07-27T03:39:18.178966Z",
     "start_time": "2025-07-27T03:39:18.176981Z"
    },
    "collapsed": true
   },
   "outputs": [],
   "source": [
    "import numpy as np\n",
    "import tensorflow as tf\n",
    "import matplotlib.pyplot as plt\n",
    "import seaborn as sns\n",
    "import os\n",
    "import csv"
   ]
  },
  {
   "cell_type": "code",
   "execution_count": 2,
   "id": "391f9355",
   "metadata": {},
   "outputs": [],
   "source": [
    "replicate_result_folder = 'replicate_results'\n",
    "if not os.path.exists(replicate_result_folder):\n",
    "    os.makedirs(replicate_result_folder)"
   ]
  },
  {
   "cell_type": "code",
   "execution_count": 3,
   "id": "8eab05348707c20a",
   "metadata": {
    "ExecuteTime": {
     "end_time": "2025-07-27T03:39:18.824273Z",
     "start_time": "2025-07-27T03:39:18.822200Z"
    }
   },
   "outputs": [],
   "source": [
    "d = 5\n",
    "\n",
    "# color setting\n",
    "truth_color = \"#FF6B6B\"\n",
    "est_color = \"#4D96FF\"\n",
    "refined_color = \"#6BCB77\"\n",
    "upper_labels=[\"\\\\theta_1\",\"\\\\theta_2\",\"\\\\theta_3\",\"\\\\theta_4\",\"\\\\theta_5\"]"
   ]
  },
  {
   "cell_type": "code",
   "execution_count": 5,
   "id": "72ee4803",
   "metadata": {},
   "outputs": [],
   "source": [
    "nn_ps_samples_path = os.path.join(os.getcwd(), 'result','nn_ps')\n",
    "nn_mcmc_samples_path = os.path.join(os.getcwd(), 'result','nn_mcmc_samples')\n",
    "\n",
    "bf_ps_samples_path = os.path.join(os.getcwd(), 'result','bf_ps')\n",
    "bf_mcmc_samples_path = os.path.join(os.getcwd(), 'result','bf_mcmc_samples')\n",
    "\n",
    "dnnabc_ps_samples_path = os.path.join(os.getcwd(), 'result','dnnabc_ps')\n",
    "\n",
    "w2abc_ps_samples_path = os.path.join(os.getcwd(), 'result','w2abc_ps')"
   ]
  },
  {
   "cell_type": "code",
   "execution_count": 6,
   "id": "416e16462e94e239",
   "metadata": {
    "ExecuteTime": {
     "end_time": "2025-07-27T03:39:20.401587Z",
     "start_time": "2025-07-27T03:39:20.396668Z"
    }
   },
   "outputs": [
    {
     "name": "stdout",
     "output_type": "stream",
     "text": [
      "(10000, 5)\n"
     ]
    }
   ],
   "source": [
    "true_posterior_path = os.path.join(os.getcwd(), 'data','ps.npy')\n",
    "true_posterior_samples = np.load(true_posterior_path)\n",
    "print(true_posterior_samples.shape)\n",
    "bandwidth_path = os.path.join(os.getcwd(), 'data','h_mmd.npy')\n",
    "bandwidth = np.load(bandwidth_path)"
   ]
  },
  {
   "cell_type": "code",
   "execution_count": 7,
   "id": "20201341ad6307af",
   "metadata": {
    "ExecuteTime": {
     "end_time": "2025-07-27T03:39:31.860629Z",
     "start_time": "2025-07-27T03:39:31.856744Z"
    }
   },
   "outputs": [],
   "source": [
    "def plot(mcmc_samples,ps_samples,true_posterior_samples, address, model=\"NN\"):\n",
    "    sns.set_style(\"whitegrid\")\n",
    "    fig, axs = plt.subplots(1, 5, figsize=(25, 6))\n",
    "    true_ps = [1, 1, -1.0, -0.9, 0.6]\n",
    "\n",
    "    # 定义每个theta_i对应的x轴范围\n",
    "    x_limits = [\n",
    "        [0.7, 1.3],  # theta_0\n",
    "        [0.6, 1.4],  # theta_1\n",
    "        [-1.5, 1.5],  # theta_2\n",
    "        [-1.5, 1.5],  # theta_3\n",
    "        [0, 1.2],  # theta_4\n",
    "    ]\n",
    "\n",
    "    for j, ax in enumerate(axs):\n",
    "        ax.set_xlim(x_limits[j])\n",
    "        ax.set_xticks(np.linspace(x_limits[j][0], x_limits[j][1], 5))\n",
    "\n",
    "    for upper_label, j in zip(upper_labels,range(d)):\n",
    "        sns.kdeplot(\n",
    "            true_posterior_samples[:, j],\n",
    "            ax=axs[j],\n",
    "            fill=False,\n",
    "            label=\"posterior\",\n",
    "            color=truth_color,\n",
    "            linestyle=\"-.\",\n",
    "            linewidth=1.5,\n",
    "        )\n",
    "        sns.kdeplot(\n",
    "            ps_samples[:, j],\n",
    "            ax=axs[j],\n",
    "            fill=False,\n",
    "            label=f\"{model}\",\n",
    "            color=est_color,\n",
    "            linestyle=\"-\",\n",
    "            linewidth=1.5,\n",
    "        )\n",
    "        sns.kdeplot(\n",
    "            mcmc_samples[:, j],\n",
    "            ax=axs[j],\n",
    "            fill=False,\n",
    "            label=f\"{model}+ABC-MCMC\",\n",
    "            color=refined_color,\n",
    "            linestyle=\"--\",\n",
    "            linewidth=1.5,\n",
    "        )\n",
    "        axs[j].set_title(f\"${upper_label}$\", pad=15)\n",
    "        axs[j].set_ylabel(\"\")\n",
    "\n",
    "    # save figure\n",
    "    handles, labels = axs[0].get_legend_handles_labels()\n",
    "    fig.legend(handles, labels, loc=\"lower center\", ncol=3)\n",
    "    plt.tight_layout(pad=3.0)\n",
    "    plt.savefig(address, dpi=300)\n",
    "    plt.close(fig)"
   ]
  },
  {
   "cell_type": "code",
   "execution_count": 8,
   "id": "8f3f202b",
   "metadata": {},
   "outputs": [],
   "source": [
    "def subplot(mcmc_samples,ps_samples,true_posterior_samples, address, model=\"NN\", element_index=0):\n",
    "    sns.set_style(\"whitegrid\")\n",
    "    fig, axs = plt.subplots(1, 1, figsize=(6, 6))\n",
    "    true_ps = [1, 1, -1.0, -0.9, 0.6]\n",
    "\n",
    "    # 定义每个theta_i对应的x轴范围\n",
    "    x_limits = [\n",
    "        [0.7, 1.3],  # theta_0\n",
    "        [0.6, 1.4],  # theta_1\n",
    "        [-1.5, 1.5],  # theta_2\n",
    "        [-1.5, 1.5],  # theta_3\n",
    "        [0, 1.2],  # theta_4\n",
    "    ]\n",
    "\n",
    "    axs.set_xlim(x_limits[element_index])\n",
    "    axs.set_xticks(np.linspace(x_limits[element_index][0], x_limits[element_index][1], 5))\n",
    "\n",
    "\n",
    "    sns.kdeplot(        \n",
    "        true_posterior_samples[:, element_index],\n",
    "        ax=axs,\n",
    "        fill=False,\n",
    "        label=\"posterior\",\n",
    "        color=truth_color,\n",
    "        linestyle=\"-.\",\n",
    "        linewidth=1.5,\n",
    "        )\n",
    "    \n",
    "    sns.kdeplot(\n",
    "            ps_samples[:, element_index],\n",
    "            ax=axs,\n",
    "            fill=False,\n",
    "            label=f\"{model}\",\n",
    "            color=est_color,\n",
    "            linestyle=\"-\",\n",
    "            linewidth=1.5,\n",
    "        )\n",
    "    \n",
    "    sns.kdeplot(\n",
    "            mcmc_samples[:, element_index],\n",
    "            ax=axs,\n",
    "            fill=False,\n",
    "            label=f\"{model}+ABC-MCMC\",\n",
    "            color=refined_color,\n",
    "            linestyle=\"--\",\n",
    "            linewidth=1.5,\n",
    "        )\n",
    "    \n",
    "    axs.set_title(f\"${upper_labels[element_index]}$\", pad=15)\n",
    "    axs.set_ylabel(\"\")\n",
    "\n",
    "    # save figure\n",
    "    handles, labels = axs.get_legend_handles_labels()\n",
    "    fig.legend(handles, labels, loc=\"lower center\", ncol=3)\n",
    "    plt.tight_layout(pad=3.0)\n",
    "    plt.savefig(address, dpi=300)\n",
    "    plt.close(fig)"
   ]
  },
  {
   "cell_type": "code",
   "execution_count": 9,
   "id": "b1aa155955886d92",
   "metadata": {
    "ExecuteTime": {
     "end_time": "2025-07-27T03:39:32.609872Z",
     "start_time": "2025-07-27T03:39:32.606744Z"
    }
   },
   "outputs": [],
   "source": [
    "def compute_mmd(x_,y_, bandwidth):\n",
    "    \"\"\"\n",
    "    Compute the mean and standard deviation of the MMD between x and y.\n",
    "    :param x_: (N_x,d)\n",
    "    :param y_: (N_y,d)\n",
    "    :return:\n",
    "    \"\"\"\n",
    "    x = tf.convert_to_tensor(x_, dtype=tf.float32)\n",
    "    y = tf.convert_to_tensor(y_, dtype=tf.float32)\n",
    "\n",
    "    xx = tf.matmul(x,tf.transpose(x))\n",
    "    xy = tf.matmul(x,tf.transpose(y))\n",
    "    yy = tf.matmul(y,tf.transpose(y))\n",
    "\n",
    "    rx = tf.reduce_sum(tf.square(x), axis=-1, keepdims=True)\n",
    "    ry = tf.reduce_sum(tf.square(y), axis=-1, keepdims=True)\n",
    "\n",
    "    se_xx = rx - 2*xx + tf.transpose(rx)\n",
    "    se_xy = rx - 2*xy + tf.transpose(ry)\n",
    "    se_yy = ry - 2*yy + tf.transpose(ry)\n",
    "\n",
    "    K_xx = tf.exp(-0.5 * se_xx / (bandwidth**2) )\n",
    "    K_xy = tf.exp( -0.5 * se_xy / (bandwidth**2) )\n",
    "    K_yy = tf.exp( -0.5 * se_yy / (bandwidth**2) )\n",
    "\n",
    "    return tf.reduce_mean(K_xx) - 2*tf.reduce_mean(K_xy) + tf.reduce_mean(K_yy)"
   ]
  },
  {
   "cell_type": "markdown",
   "id": "27c5fd927ee11596",
   "metadata": {},
   "source": [
    "## Local ABC-MCMC replicate"
   ]
  },
  {
   "cell_type": "code",
   "execution_count": 10,
   "id": "f10d43d3",
   "metadata": {},
   "outputs": [],
   "source": [
    "nn_replicate_mmd_csv = os.path.join(replicate_result_folder, 'nn_replicate_mmd.csv')\n",
    "with open(nn_replicate_mmd_csv, \"w\", newline=\"\") as f:\n",
    "    writer = csv.writer(f)\n",
    "    writer.writerow([\"Iteration\", \"MMD\",\"refined MMD\"])\n",
    "\n",
    "bf_replicate_mmd_csv = os.path.join(replicate_result_folder, 'bf_replicate_mmd.csv')\n",
    "with open(bf_replicate_mmd_csv, \"w\", newline=\"\") as f:\n",
    "    writer = csv.writer(f)\n",
    "    writer.writerow([\"Iteration\", \"MMD\",\"refined MMD\"])\n",
    "\n",
    "dnnabc_replicate_mmd_csv = os.path.join(replicate_result_folder, 'dnnabc_replicate_mmd.csv')\n",
    "with open(dnnabc_replicate_mmd_csv, \"w\", newline=\"\") as f:\n",
    "    writer = csv.writer(f)\n",
    "    writer.writerow([\"Iteration\", \"MMD\",\"refined MMD\"])\n",
    "\n",
    "w2abc_replicate_mmd_csv = os.path.join(replicate_result_folder, 'w2abc_replicate_mmd.csv')\n",
    "with open(w2abc_replicate_mmd_csv, \"w\", newline=\"\") as f:\n",
    "    writer = csv.writer(f)\n",
    "    writer.writerow([\"Iteration\", \"MMD\",\"refined MMD\"])\n",
    "\n",
    "nn_fig_folder = os.path.join(replicate_result_folder, 'nn_figures')\n",
    "if not os.path.exists(nn_fig_folder):\n",
    "    os.makedirs(nn_fig_folder)\n",
    "\n",
    "bf_fig_folder = os.path.join(replicate_result_folder, 'bf_figures')\n",
    "if not os.path.exists(bf_fig_folder):\n",
    "    os.makedirs(bf_fig_folder)"
   ]
  },
  {
   "cell_type": "code",
   "execution_count": 11,
   "id": "ce00e53d",
   "metadata": {},
   "outputs": [
    {
     "name": "stdout",
     "output_type": "stream",
     "text": [
      "Refinement index: [250, 270, 290, 310, 330]\n"
     ]
    }
   ],
   "source": [
    "burn_in =  250\n",
    "n_samples = 100\n",
    "thin = 20\n",
    "refinement_index = []\n",
    "\n",
    "for i in range(burn_in+n_samples):\n",
    "    if i >= burn_in and (i-burn_in) % thin == 0:\n",
    "        refinement_index.append(i)\n",
    "\n",
    "print(f\"Refinement index: {refinement_index}\")"
   ]
  },
  {
   "cell_type": "markdown",
   "id": "d5ddf8de",
   "metadata": {},
   "source": [
    "### update MMD "
   ]
  },
  {
   "cell_type": "code",
   "execution_count": 12,
   "id": "0cb2125c",
   "metadata": {},
   "outputs": [
    {
     "name": "stdout",
     "output_type": "stream",
     "text": [
      "Processing iteration 1...\n",
      "MMD: 0.02628938853740692, Refined MMD: 0.009586632251739502\n",
      "Processing iteration 2...\n",
      "MMD: 0.041501596570014954, Refined MMD: 0.012709125876426697\n",
      "Processing iteration 3...\n",
      "MMD: 0.032431989908218384, Refined MMD: 0.012495368719100952\n",
      "Processing iteration 4...\n",
      "MMD: 0.02409420907497406, Refined MMD: 0.004896253347396851\n",
      "Processing iteration 5...\n",
      "MMD: 0.025431714951992035, Refined MMD: 0.010624930262565613\n",
      "Processing iteration 6...\n",
      "MMD: 0.0618598610162735, Refined MMD: 0.02592124044895172\n",
      "Processing iteration 7...\n",
      "MMD: 0.028445005416870117, Refined MMD: 0.005979865789413452\n",
      "Processing iteration 8...\n",
      "MMD: 0.040989942848682404, Refined MMD: 0.024652406573295593\n",
      "Processing iteration 9...\n",
      "MMD: 0.02265191078186035, Refined MMD: 0.01273202896118164\n",
      "Processing iteration 10...\n",
      "MMD: 0.03902839124202728, Refined MMD: 0.019486211240291595\n"
     ]
    }
   ],
   "source": [
    "for k in range(10):\n",
    "    print(f\"Processing iteration {k+1}...\")\n",
    "\n",
    "    nn_kth_ps_path = os.path.join(nn_ps_samples_path, f'nn_50_ps_{k}.npy')\n",
    "    nn_ps_samples = np.load(nn_kth_ps_path)\n",
    "\n",
    "    kth_mcmc_samples_path = os.path.join(nn_mcmc_samples_path, f'nn_50_mcmc_samples_{k}.npy')\n",
    "    mcmc_samples_total = np.load(kth_mcmc_samples_path)\n",
    "    mcmc_samples = mcmc_samples_total[refinement_index, :]\n",
    "    mcmc_samples = mcmc_samples.reshape(-1, d)\n",
    "\n",
    "    mmd = compute_mmd(nn_ps_samples, true_posterior_samples, bandwidth)\n",
    "    refined_mmd = compute_mmd(mcmc_samples, true_posterior_samples, bandwidth)\n",
    "\n",
    "    print(f\"MMD: {mmd.numpy()}, Refined MMD: {refined_mmd.numpy()}\")\n",
    "    with open(nn_replicate_mmd_csv, \"a\", newline=\"\") as f:\n",
    "        writer = csv.writer(f)\n",
    "        writer.writerow([k+1, mmd.numpy(), refined_mmd.numpy()])    "
   ]
  },
  {
   "cell_type": "code",
   "execution_count": 13,
   "id": "d6e2422d",
   "metadata": {},
   "outputs": [
    {
     "name": "stdout",
     "output_type": "stream",
     "text": [
      "Processing iteration 1...\n",
      "MMD: 0.007676646113395691, Refined MMD: 0.005471467971801758\n",
      "Processing iteration 2...\n",
      "MMD: 0.029050111770629883, Refined MMD: 0.02519504725933075\n",
      "Processing iteration 3...\n",
      "MMD: 0.019283801317214966, Refined MMD: 0.009517520666122437\n",
      "Processing iteration 4...\n",
      "MMD: 0.01943526417016983, Refined MMD: 0.00873371958732605\n",
      "Processing iteration 5...\n",
      "MMD: 0.03170903027057648, Refined MMD: 0.03131464123725891\n",
      "Processing iteration 6...\n",
      "MMD: 0.03337589651346207, Refined MMD: 0.020448945462703705\n",
      "Processing iteration 7...\n",
      "MMD: 0.028649158775806427, Refined MMD: 0.010161519050598145\n",
      "Processing iteration 8...\n",
      "MMD: 0.02474050223827362, Refined MMD: 0.01400686800479889\n",
      "Processing iteration 9...\n",
      "MMD: 0.015238858759403229, Refined MMD: 0.01603933423757553\n",
      "Processing iteration 10...\n",
      "MMD: 0.03567664325237274, Refined MMD: 0.02978670597076416\n"
     ]
    }
   ],
   "source": [
    "for k in range(10):\n",
    "    print(f\"Processing iteration {k+1}...\")\n",
    "\n",
    "    bf_kth_ps_path = os.path.join(bf_ps_samples_path, f'bf_50_ps_{k}.npy')\n",
    "    bf_ps_samples = np.load(bf_kth_ps_path)\n",
    "\n",
    "    kth_mcmc_samples_path = os.path.join(bf_mcmc_samples_path, f'bf_50_mcmc_samples_{k}.npy')\n",
    "    mcmc_samples_total = np.load(kth_mcmc_samples_path)\n",
    "    mcmc_samples = mcmc_samples_total[refinement_index, :]\n",
    "    mcmc_samples = mcmc_samples.reshape(-1, d)\n",
    "\n",
    "    mmd = compute_mmd(bf_ps_samples, true_posterior_samples, bandwidth)\n",
    "    refined_mmd = compute_mmd(mcmc_samples, true_posterior_samples, bandwidth)\n",
    "\n",
    "    print(f\"MMD: {mmd.numpy()}, Refined MMD: {refined_mmd.numpy()}\")\n",
    "    with open(bf_replicate_mmd_csv, \"a\", newline=\"\") as f:\n",
    "        writer = csv.writer(f)\n",
    "        writer.writerow([k+1, mmd.numpy(), refined_mmd.numpy()])"
   ]
  },
  {
   "cell_type": "code",
   "execution_count": null,
   "id": "b0c66978",
   "metadata": {},
   "outputs": [],
   "source": [
    "for k in range(10):\n",
    "    print(f\"Processing iteration {k+1}...\")\n",
    "\n",
    "    dnnabc_kth_ps_path = os.path.join(dnnabc_ps_samples_path, f'dnnabc_ps_{k}.npy')\n",
    "    dnnabc_ps_samples = np.load(dnnabc_kth_ps_path)\n",
    "\n",
    "    mmd = compute_mmd(dnnabc_ps_samples, true_posterior_samples, bandwidth)\n",
    "    \n",
    "    print(f\"MMD: {mmd.numpy()}\")\n",
    "    with open(dnnabc_replicate_mmd_csv, \"a\", newline=\"\") as f:\n",
    "        writer = csv.writer(f)\n",
    "        writer.writerow([k+1, mmd.numpy(), \"N/A\"])\n",
    "\n",
    "for k in range(10):\n",
    "    print(f\"Processing iteration {k+1}...\")\n",
    "\n",
    "    w2abc_kth_ps_path = os.path.join(w2abc_ps_samples_path, f'w2_ps_{k}.npy')\n",
    "    w2abc_ps_samples = np.load(w2abc_kth_ps_path)\n",
    "\n",
    "    mmd = compute_mmd(w2abc_ps_samples, true_posterior_samples, bandwidth)\n",
    "    \n",
    "    print(f\"MMD: {mmd.numpy()}\")\n",
    "    with open(w2abc_replicate_mmd_csv, \"a\", newline=\"\") as f:\n",
    "        writer = csv.writer(f)\n",
    "        writer.writerow([k+1, mmd.numpy(), \"N/A\"])"
   ]
  },
  {
   "cell_type": "markdown",
   "id": "17573dfd",
   "metadata": {},
   "source": [
    "### update Figure"
   ]
  },
  {
   "cell_type": "code",
   "execution_count": 71,
   "id": "555cb36e",
   "metadata": {},
   "outputs": [
    {
     "name": "stdout",
     "output_type": "stream",
     "text": [
      "Processing iteration 1...\n",
      "Processing iteration 2...\n",
      "Processing iteration 3...\n",
      "Processing iteration 4...\n",
      "Processing iteration 5...\n",
      "Processing iteration 6...\n",
      "Processing iteration 7...\n",
      "Processing iteration 8...\n",
      "Processing iteration 9...\n",
      "Processing iteration 10...\n"
     ]
    }
   ],
   "source": [
    "for k in range(10):\n",
    "    print(f\"Processing iteration {k+1}...\")\n",
    "\n",
    "    nn_kth_ps_path = os.path.join(nn_ps_samples_path, f'nn_50_ps_{k}.npy')\n",
    "    nn_ps_samples = np.load(nn_kth_ps_path)\n",
    "\n",
    "    kth_mcmc_samples_path = os.path.join(nn_mcmc_samples_path, f'nn_50_mcmc_samples_{k}.npy')\n",
    "    mcmc_samples_total = np.load(kth_mcmc_samples_path)\n",
    "    mcmc_samples = mcmc_samples_total[refinement_index, :]\n",
    "    mcmc_samples = mcmc_samples.reshape(-1, d)\n",
    "\n",
    "    kth_address = os.path.join(nn_fig_folder, f'nn_50_{k}.png')  \n",
    "    plot(mcmc_samples, nn_ps_samples, true_posterior_samples, kth_address, model=\"NN\")\n"
   ]
  },
  {
   "cell_type": "code",
   "execution_count": 72,
   "id": "d26b202c",
   "metadata": {},
   "outputs": [
    {
     "name": "stdout",
     "output_type": "stream",
     "text": [
      "Processing iteration 1...\n",
      "Processing iteration 2...\n",
      "Processing iteration 3...\n",
      "Processing iteration 4...\n",
      "Processing iteration 5...\n",
      "Processing iteration 6...\n",
      "Processing iteration 7...\n",
      "Processing iteration 8...\n",
      "Processing iteration 9...\n",
      "Processing iteration 10...\n"
     ]
    }
   ],
   "source": [
    "for k in range(10):\n",
    "    print(f\"Processing iteration {k+1}...\")\n",
    "\n",
    "    bf_kth_ps_path = os.path.join(bf_ps_samples_path, f'bf_50_ps_{k}.npy')\n",
    "    bf_ps_samples = np.load(bf_kth_ps_path)\n",
    "\n",
    "    kth_mcmc_samples_path = os.path.join(bf_mcmc_samples_path, f'bf_50_mcmc_samples_{k}.npy')\n",
    "    mcmc_samples_total = np.load(kth_mcmc_samples_path)\n",
    "    mcmc_samples = mcmc_samples_total[refinement_index, :]\n",
    "    mcmc_samples = mcmc_samples.reshape(-1, d)\n",
    "\n",
    "    kth_address = os.path.join(bf_fig_folder, f'bf_50_{k}.png')\n",
    "    plot(mcmc_samples, bf_ps_samples, true_posterior_samples, kth_address, model=\"BF\")\n"
   ]
  },
  {
   "cell_type": "markdown",
   "id": "15395a47",
   "metadata": {},
   "source": [
    "### ith element ABC-MCMC trajectory"
   ]
  },
  {
   "cell_type": "code",
   "execution_count": 73,
   "id": "894cb8aa",
   "metadata": {},
   "outputs": [],
   "source": [
    "nn_mcmc_trajectory_folder = os.path.join(replicate_result_folder, 'nn_mcmc_trajectory')\n",
    "if not os.path.exists(nn_mcmc_trajectory_folder):\n",
    "    os.makedirs(nn_mcmc_trajectory_folder)\n",
    "bf_mcmc_trajectory_folder = os.path.join(replicate_result_folder, 'bf_mcmc_trajectory')\n",
    "if not os.path.exists(bf_mcmc_trajectory_folder):\n",
    "    os.makedirs(bf_mcmc_trajectory_folder)"
   ]
  },
  {
   "cell_type": "code",
   "execution_count": 74,
   "id": "0431752b",
   "metadata": {},
   "outputs": [
    {
     "name": "stdout",
     "output_type": "stream",
     "text": [
      "Processing element 1...\n",
      "Processing iteration 1...\n",
      "Processing iteration 2...\n",
      "Processing iteration 3...\n",
      "Processing iteration 4...\n",
      "Processing iteration 5...\n",
      "Processing iteration 6...\n",
      "Processing iteration 7...\n",
      "Processing iteration 8...\n",
      "Processing iteration 9...\n",
      "Processing iteration 10...\n",
      "Processing element 2...\n",
      "Processing iteration 1...\n",
      "Processing iteration 2...\n",
      "Processing iteration 3...\n",
      "Processing iteration 4...\n",
      "Processing iteration 5...\n",
      "Processing iteration 6...\n",
      "Processing iteration 7...\n",
      "Processing iteration 8...\n",
      "Processing iteration 9...\n",
      "Processing iteration 10...\n",
      "Processing element 3...\n",
      "Processing iteration 1...\n",
      "Processing iteration 2...\n",
      "Processing iteration 3...\n",
      "Processing iteration 4...\n",
      "Processing iteration 5...\n",
      "Processing iteration 6...\n",
      "Processing iteration 7...\n",
      "Processing iteration 8...\n",
      "Processing iteration 9...\n",
      "Processing iteration 10...\n",
      "Processing element 4...\n",
      "Processing iteration 1...\n",
      "Processing iteration 2...\n",
      "Processing iteration 3...\n",
      "Processing iteration 4...\n",
      "Processing iteration 5...\n",
      "Processing iteration 6...\n",
      "Processing iteration 7...\n",
      "Processing iteration 8...\n",
      "Processing iteration 9...\n",
      "Processing iteration 10...\n",
      "Processing element 5...\n",
      "Processing iteration 1...\n",
      "Processing iteration 2...\n",
      "Processing iteration 3...\n",
      "Processing iteration 4...\n",
      "Processing iteration 5...\n",
      "Processing iteration 6...\n",
      "Processing iteration 7...\n",
      "Processing iteration 8...\n",
      "Processing iteration 9...\n",
      "Processing iteration 10...\n"
     ]
    }
   ],
   "source": [
    "for i in range(d):\n",
    "    print(f\"Processing element {i+1}...\")\n",
    "    ith_nn_mcmc_trajectory_subfolder = os.path.join(nn_mcmc_trajectory_folder, f'mcmc_trajectory_{i}')\n",
    "    if not os.path.exists(ith_nn_mcmc_trajectory_subfolder):\n",
    "        os.makedirs(ith_nn_mcmc_trajectory_subfolder)\n",
    "\n",
    "    mcmc_index = []\n",
    "    for k in range(10):\n",
    "        print(f\"Processing iteration {k+1}...\")\n",
    "\n",
    "        nn_kth_ps_path = os.path.join(nn_ps_samples_path, f'nn_50_ps_{k}.npy')\n",
    "        nn_ps_samples = np.load(nn_kth_ps_path)\n",
    "        \n",
    "        kth_mcmc_samples_path = os.path.join(nn_mcmc_samples_path, f'nn_50_mcmc_samples_{k}.npy')\n",
    "        mcmc_samples_total = np.load(kth_mcmc_samples_path)\n",
    "\n",
    "        ik_subfolder = os.path.join(ith_nn_mcmc_trajectory_subfolder, f'{k+1}rounds')\n",
    "        os.makedirs(ik_subfolder, exist_ok=True)\n",
    "\n",
    "\n",
    "        for j in range(n_samples+burn_in):\n",
    "            if (j+1) % thin == 0:\n",
    "                mcmc_index.append(j)\n",
    "                if len(mcmc_index) > 5:\n",
    "                    mcmc_index.pop(0)\n",
    "                \n",
    "                mcmc_samples = mcmc_samples_total[mcmc_index, :]\n",
    "                mcmc_samples = mcmc_samples.reshape(-1, d)\n",
    "                ikj_address = os.path.join(ik_subfolder, f'{j+1}th_mcmc_samples.png')\n",
    "                subplot(mcmc_samples, nn_ps_samples, true_posterior_samples, ikj_address, model=\"NN\", element_index=i)\n"
   ]
  },
  {
   "cell_type": "code",
   "execution_count": 75,
   "id": "94ba9553",
   "metadata": {},
   "outputs": [
    {
     "name": "stdout",
     "output_type": "stream",
     "text": [
      "Processing element 1...\n",
      "Processing iteration 1...\n",
      "Processing iteration 2...\n",
      "Processing iteration 3...\n",
      "Processing iteration 4...\n",
      "Processing iteration 5...\n",
      "Processing iteration 6...\n",
      "Processing iteration 7...\n",
      "Processing iteration 8...\n",
      "Processing iteration 9...\n",
      "Processing iteration 10...\n",
      "Processing element 2...\n",
      "Processing iteration 1...\n",
      "Processing iteration 2...\n",
      "Processing iteration 3...\n",
      "Processing iteration 4...\n",
      "Processing iteration 5...\n",
      "Processing iteration 6...\n",
      "Processing iteration 7...\n",
      "Processing iteration 8...\n",
      "Processing iteration 9...\n",
      "Processing iteration 10...\n",
      "Processing element 3...\n",
      "Processing iteration 1...\n",
      "Processing iteration 2...\n",
      "Processing iteration 3...\n",
      "Processing iteration 4...\n",
      "Processing iteration 5...\n",
      "Processing iteration 6...\n",
      "Processing iteration 7...\n",
      "Processing iteration 8...\n",
      "Processing iteration 9...\n",
      "Processing iteration 10...\n",
      "Processing element 4...\n",
      "Processing iteration 1...\n",
      "Processing iteration 2...\n",
      "Processing iteration 3...\n",
      "Processing iteration 4...\n",
      "Processing iteration 5...\n",
      "Processing iteration 6...\n",
      "Processing iteration 7...\n",
      "Processing iteration 8...\n",
      "Processing iteration 9...\n",
      "Processing iteration 10...\n",
      "Processing element 5...\n",
      "Processing iteration 1...\n",
      "Processing iteration 2...\n",
      "Processing iteration 3...\n",
      "Processing iteration 4...\n",
      "Processing iteration 5...\n",
      "Processing iteration 6...\n",
      "Processing iteration 7...\n",
      "Processing iteration 8...\n",
      "Processing iteration 9...\n",
      "Processing iteration 10...\n"
     ]
    }
   ],
   "source": [
    "for i in range(d):\n",
    "    print(f\"Processing element {i+1}...\")\n",
    "\n",
    "    ith_bf_mcmc_trajectory_subfolder = os.path.join(bf_mcmc_trajectory_folder, f'mcmc_trajectory_{i}')\n",
    "    if not os.path.exists(ith_bf_mcmc_trajectory_subfolder):\n",
    "        os.makedirs(ith_bf_mcmc_trajectory_subfolder)\n",
    "\n",
    "    mcmc_index = []\n",
    "    for k in range(10):\n",
    "        print(f\"Processing iteration {k+1}...\")\n",
    "\n",
    "        bf_kth_ps_path = os.path.join(bf_ps_samples_path, f'bf_50_ps_{k}.npy')\n",
    "        bf_ps_samples = np.load(bf_kth_ps_path)\n",
    "        \n",
    "        kth_mcmc_samples_path = os.path.join(bf_mcmc_samples_path, f'bf_50_mcmc_samples_{k}.npy')\n",
    "        mcmc_samples_total = np.load(kth_mcmc_samples_path)\n",
    "\n",
    "        ik_subfolder = os.path.join(ith_bf_mcmc_trajectory_subfolder, f'{k+1}rounds')\n",
    "        os.makedirs(ik_subfolder, exist_ok=True)\n",
    "\n",
    "\n",
    "        for j in range(n_samples+burn_in):\n",
    "            if (j+1) % thin == 0:\n",
    "                mcmc_index.append(j)\n",
    "                if len(mcmc_index) > 5:\n",
    "                    mcmc_index.pop(0)\n",
    "                \n",
    "                mcmc_samples = mcmc_samples_total[mcmc_index, :]\n",
    "                mcmc_samples = mcmc_samples.reshape(-1, d)\n",
    "                ikj_address = os.path.join(ik_subfolder, f'{j+1}th_mcmc_samples.png')\n",
    "                subplot(mcmc_samples, bf_ps_samples, true_posterior_samples, ikj_address, model=\"BF\", element_index=i)\n"
   ]
  },
  {
   "cell_type": "code",
   "execution_count": null,
   "id": "6069a3b1",
   "metadata": {},
   "outputs": [],
   "source": []
  }
 ],
 "metadata": {
  "kernelspec": {
   "display_name": "math5470",
   "language": "python",
   "name": "python3"
  },
  "language_info": {
   "codemirror_mode": {
    "name": "ipython",
    "version": 3
   },
   "file_extension": ".py",
   "mimetype": "text/x-python",
   "name": "python",
   "nbconvert_exporter": "python",
   "pygments_lexer": "ipython3",
   "version": "3.12.9"
  }
 },
 "nbformat": 4,
 "nbformat_minor": 5
}
