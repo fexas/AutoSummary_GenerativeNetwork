{
 "cells": [
  {
   "cell_type": "code",
   "execution_count": 3,
   "id": "75cd5d21",
   "metadata": {},
   "outputs": [],
   "source": [
    "import numpy as np\n",
    "import numpy.random as rng\n",
    "import matplotlib\n",
    "import matplotlib.pyplot as plt\n"
   ]
  },
  {
   "cell_type": "code",
   "execution_count": 2,
   "id": "201a6a20",
   "metadata": {},
   "outputs": [
    {
     "name": "stdout",
     "output_type": "stream",
     "text": [
      "[ 0.31622777  0.37926902  0.45487779  0.54555948  0.65431891  0.78475997\n",
      "  0.94120497  1.12883789  1.35387618  1.62377674  1.94748304  2.33572147\n",
      "  2.80135676  3.35981829  4.02961132  4.83293024  5.79639395  6.95192796\n",
      "  8.33782223 10.        ]\n"
     ]
    }
   ],
   "source": [
    "eps = 10 ** np.linspace(-0.5, 1.0, 20)\n",
    "print(eps)"
   ]
  }
 ],
 "metadata": {
  "kernelspec": {
   "display_name": "math5470",
   "language": "python",
   "name": "python3"
  },
  "language_info": {
   "codemirror_mode": {
    "name": "ipython",
    "version": 3
   },
   "file_extension": ".py",
   "mimetype": "text/x-python",
   "name": "python",
   "nbconvert_exporter": "python",
   "pygments_lexer": "ipython3",
   "version": "3.12.9"
  }
 },
 "nbformat": 4,
 "nbformat_minor": 5
}
