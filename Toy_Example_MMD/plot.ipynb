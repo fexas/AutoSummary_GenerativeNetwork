{
 "cells": [
  {
   "cell_type": "code",
   "execution_count": 1,
   "id": "187d2ed4",
   "metadata": {},
   "outputs": [],
   "source": [
    "import numpy as np\n",
    "import tensorflow as tf\n",
    "import matplotlib.pyplot as plt\n",
    "import seaborn as sns\n",
    "import os\n",
    "import csv"
   ]
  },
  {
   "cell_type": "code",
   "execution_count": 2,
   "id": "a72c694d",
   "metadata": {},
   "outputs": [],
   "source": [
    "replicate_result_folder = 'replicate_results'\n",
    "if not os.path.exists(replicate_result_folder):\n",
    "    os.makedirs(replicate_result_folder)"
   ]
  },
  {
   "cell_type": "code",
   "execution_count": 3,
   "id": "4f6e8081",
   "metadata": {},
   "outputs": [],
   "source": [
    "d = 5\n",
    "\n",
    "# color setting\n",
    "truth_color = \"#FF6B6B\"\n",
    "est_color = \"#4D96FF\"\n",
    "refined_color = \"#6BCB77\"\n",
    "upper_labels=[\"\\\\theta_1\",\"\\\\theta_2\",\"\\\\theta_3\",\"\\\\theta_4\",\"\\\\theta_5\"]"
   ]
  },
  {
   "cell_type": "code",
   "execution_count": 4,
   "id": "91cdd6bf",
   "metadata": {},
   "outputs": [],
   "source": [
    "nn_ps_samples_path = os.path.join(os.getcwd(), 'result','nn_ps')\n",
    "nn_mcmc_samples_path = os.path.join(os.getcwd(), 'result','nn_mcmc_samples')"
   ]
  },
  {
   "cell_type": "code",
   "execution_count": 5,
   "id": "5071e408",
   "metadata": {},
   "outputs": [
    {
     "name": "stdout",
     "output_type": "stream",
     "text": [
      "(10000, 5)\n"
     ]
    }
   ],
   "source": [
    "true_posterior_path = os.path.join(os.getcwd(), 'data','ps.npy')\n",
    "true_posterior_samples = np.load(true_posterior_path)\n",
    "print(true_posterior_samples.shape)\n",
    "bandwidth_path = os.path.join(os.getcwd(), 'data','h_mmd.npy')\n",
    "bandwidth = np.load(bandwidth_path)"
   ]
  },
  {
   "cell_type": "code",
   "execution_count": 8,
   "id": "b06f716f",
   "metadata": {},
   "outputs": [],
   "source": [
    "def compute_mmd(x_,y_, bandwidth):\n",
    "    \"\"\"\n",
    "    Compute the mean and standard deviation of the MMD between x and y.\n",
    "    :param x_: (N_x,d)\n",
    "    :param y_: (N_y,d)\n",
    "    :return:\n",
    "    \"\"\"\n",
    "    x = tf.convert_to_tensor(x_, dtype=tf.float32)\n",
    "    y = tf.convert_to_tensor(y_, dtype=tf.float32)\n",
    "\n",
    "    xx = tf.matmul(x,tf.transpose(x))\n",
    "    xy = tf.matmul(x,tf.transpose(y))\n",
    "    yy = tf.matmul(y,tf.transpose(y))\n",
    "\n",
    "    rx = tf.reduce_sum(tf.square(x), axis=-1, keepdims=True)\n",
    "    ry = tf.reduce_sum(tf.square(y), axis=-1, keepdims=True)\n",
    "\n",
    "    se_xx = rx - 2*xx + tf.transpose(rx)\n",
    "    se_xy = rx - 2*xy + tf.transpose(ry)\n",
    "    se_yy = ry - 2*yy + tf.transpose(ry)\n",
    "\n",
    "    K_xx = tf.exp(-0.5 * se_xx / (bandwidth**2) )\n",
    "    K_xy = tf.exp( -0.5 * se_xy / (bandwidth**2) )\n",
    "    K_yy = tf.exp( -0.5 * se_yy / (bandwidth**2) )\n",
    "\n",
    "    return tf.reduce_mean(K_xx) - 2*tf.reduce_mean(K_xy) + tf.reduce_mean(K_yy)"
   ]
  },
  {
   "cell_type": "markdown",
   "id": "ad41e7b0",
   "metadata": {},
   "source": [
    "## update mmd"
   ]
  },
  {
   "cell_type": "code",
   "execution_count": 6,
   "id": "8a441d27",
   "metadata": {},
   "outputs": [],
   "source": [
    "nn_replicate_mmd_csv = os.path.join(replicate_result_folder, 'mmd_replicate_mmd.csv')\n",
    "with open(nn_replicate_mmd_csv, \"w\", newline=\"\") as f:\n",
    "    writer = csv.writer(f)\n",
    "    writer.writerow([\"Iteration\", \"MMD\",\"refined MMD\"])"
   ]
  },
  {
   "cell_type": "code",
   "execution_count": 7,
   "id": "776dc489",
   "metadata": {},
   "outputs": [
    {
     "name": "stdout",
     "output_type": "stream",
     "text": [
      "Refinement index: [250, 270, 290, 310, 330]\n"
     ]
    }
   ],
   "source": [
    "burn_in =  250\n",
    "n_samples = 100\n",
    "thin = 20\n",
    "refinement_index = []\n",
    "\n",
    "for i in range(burn_in+n_samples):\n",
    "    if i >= burn_in and (i-burn_in) % thin == 0:\n",
    "        refinement_index.append(i)\n",
    "\n",
    "print(f\"Refinement index: {refinement_index}\")"
   ]
  },
  {
   "cell_type": "code",
   "execution_count": 9,
   "id": "e0b31000",
   "metadata": {},
   "outputs": [
    {
     "name": "stdout",
     "output_type": "stream",
     "text": [
      "Processing iteration 1...\n",
      "MMD: 0.032776251435279846, Refined MMD: 0.021373651921749115\n",
      "Processing iteration 2...\n",
      "MMD: 0.05185917019844055, Refined MMD: 0.019209280610084534\n",
      "Processing iteration 3...\n",
      "MMD: 0.03253833204507828, Refined MMD: 0.02461998164653778\n",
      "Processing iteration 4...\n",
      "MMD: 0.032508596777915955, Refined MMD: 0.01012122631072998\n",
      "Processing iteration 5...\n",
      "MMD: 0.04901681840419769, Refined MMD: 0.02413634955883026\n",
      "Processing iteration 6...\n",
      "MMD: 0.047604821622371674, Refined MMD: 0.01594504714012146\n",
      "Processing iteration 7...\n",
      "MMD: 0.06179584562778473, Refined MMD: 0.025123149156570435\n",
      "Processing iteration 8...\n",
      "MMD: 0.022596657276153564, Refined MMD: 0.013932481408119202\n",
      "Processing iteration 9...\n",
      "MMD: 0.03743452578783035, Refined MMD: 0.01525270938873291\n",
      "Processing iteration 10...\n",
      "MMD: 0.022383302450180054, Refined MMD: 0.012264631688594818\n"
     ]
    }
   ],
   "source": [
    "for k in range(10):\n",
    "    print(f\"Processing iteration {k+1}...\")\n",
    "\n",
    "    nn_kth_ps_path = os.path.join(nn_ps_samples_path, f'nn_50_ps_{k}.npy')\n",
    "    nn_ps_samples = np.load(nn_kth_ps_path)\n",
    "\n",
    "    kth_mcmc_samples_path = os.path.join(nn_mcmc_samples_path, f'nn_50_mcmc_samples_{k}.npy')\n",
    "    mcmc_samples_total = np.load(kth_mcmc_samples_path)\n",
    "    mcmc_samples = mcmc_samples_total[refinement_index, :]\n",
    "    mcmc_samples = mcmc_samples.reshape(-1, d)\n",
    "\n",
    "    mmd = compute_mmd(nn_ps_samples, true_posterior_samples, bandwidth)\n",
    "    refined_mmd = compute_mmd(mcmc_samples, true_posterior_samples, bandwidth)\n",
    "\n",
    "    print(f\"MMD: {mmd.numpy()}, Refined MMD: {refined_mmd.numpy()}\")\n",
    "    with open(nn_replicate_mmd_csv, \"a\", newline=\"\") as f:\n",
    "        writer = csv.writer(f)\n",
    "        writer.writerow([k+1, mmd.numpy(), refined_mmd.numpy()])    "
   ]
  },
  {
   "cell_type": "code",
   "execution_count": null,
   "id": "bd8ad5c8",
   "metadata": {},
   "outputs": [],
   "source": []
  }
 ],
 "metadata": {
  "kernelspec": {
   "display_name": "math5470",
   "language": "python",
   "name": "python3"
  },
  "language_info": {
   "codemirror_mode": {
    "name": "ipython",
    "version": 3
   },
   "file_extension": ".py",
   "mimetype": "text/x-python",
   "name": "python",
   "nbconvert_exporter": "python",
   "pygments_lexer": "ipython3",
   "version": "3.12.9"
  }
 },
 "nbformat": 4,
 "nbformat_minor": 5
}
